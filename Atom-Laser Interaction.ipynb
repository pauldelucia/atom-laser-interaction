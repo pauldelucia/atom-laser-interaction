{
 "cells": [
  {
   "cell_type": "code",
   "execution_count": 1,
   "metadata": {},
   "outputs": [],
   "source": [
    "\n",
    "'''\n",
    "This notebook is made to explore how a single hydrogen atom\n",
    "(an electron bound to a proton) behaves inside a laser beam.\n",
    "\n",
    "To simulate a laser beam, two 'infinitely long', oppositely charged barriers\n",
    "will be placed in parallel, between which the hydrogen atom will sit.\n",
    "This simulates the classical view of a laser beam - an oscillating electric\n",
    "field.\n",
    "'''\n",
    "\n",
    "import numpy as np\n",
    "from scipy.constants import pi\n",
    "\n",
    "def potential(N,t):\n",
    "    '''Sets the potential between the barriers and the charge on the barriers'''\n",
    "    \n",
    "    # the initial potential between the two barriers\n",
    "    V  = np.zeros([N,N])\n",
    "    \n",
    "    # Charge on the barriers as a function of time\n",
    "    V[:,0] = -A*np.sin(pi*t)\n",
    "    V[:,-1] = A*np.sin(pi*t)\n",
    "    \n",
    "    # Create a copy to be used in the Jacobi update\n",
    "    Vp = np.copy(V)\n",
    "\n",
    "    return V,Vp\n",
    "\n",
    "\n",
    "def jacobi_update(V,Vp):\n",
    "    '''Updates the potential according to the Jacobi method.'''\n",
    "    \n",
    "    ΔV = 0.0\n",
    "    for i in range(1,V.shape[0]-1):\n",
    "        for j in range(1,V.shape[1]-1):\n",
    "            Vp[i,j] = 0.25*(V[i-1,j] + V[i+1,j] + V[i,j+1] + V[i,j-1])\n",
    "            ΔV += abs(Vp[i,j]-V[i,j])\n",
    "\n",
    "    return ΔV\n",
    "\n",
    "\n",
    "def getE(V):\n",
    "    '''Computes the electric field from the potential'''\n",
    "\n",
    "    # Initialize the E-Field arrays    \n",
    "    Ex = np.zeros(V.shape)\n",
    "    Ey = np.zeros_like(Ex)\n",
    "\n",
    "    # Compute the electric field as the gradient of the potential\n",
    "    for i in range(1,V.shape[0]-1):\n",
    "        for j in range(1,V.shape[1]-1):\n",
    "            Ex[i,j] = -0.5*(V[i,j+1]-V[i,j-1])\n",
    "            Ey[i,j] = -0.5*(V[i+1,j]-V[i-1,j])\n",
    "\n",
    "    # Return the electric field\n",
    "    return Ex,Ey\n",
    "\n",
    "def hydrogen(Ex,Ey):\n",
    "    '''Creates an array as a vizualization of an electron\n",
    "    bound to a proton moving with the electric field.\n",
    "    The 'position' of the electron can be thought to roughly\n",
    "    represent the center of the electron cloud which is\n",
    "    distorted by the applied electric field.'''\n",
    "    \n",
    "    # initial H\n",
    "    H = np.zeros([w,w],dtype=int)        \n",
    "    H[w//2,w//2] = 2\n",
    "\n",
    "    # Initial position of electron (negative numbers indicate\n",
    "    # the electron is on the left side of proton, positive for right)\n",
    "    n = -1\n",
    "\n",
    "    # Electron position\n",
    "    H[w//2,w//2+n] = 1\n",
    "\n",
    "    # This loop updates the position of the electron according to\n",
    "    # electric field strength\n",
    "    for i in range(len(pos)):\n",
    "        \n",
    "        # positive E field\n",
    "        if Ex[2,1] > (En[i] - En[0]) and Ex[2,1] < (En[i+1] - En[0]):                     \n",
    "        \n",
    "            H = np.zeros([w,w],dtype=int)\n",
    "            H[w//2,w//2] = 2 \n",
    "            \n",
    "            n = pos[i]\n",
    "            H[w//2,w//2+n] = 1\n",
    "        \n",
    "        # negative E field\n",
    "        elif Ex[2,1] < -(En[i] - En[0]) and Ex[2,1] > -(En[i+1] - En[0]):                     \n",
    "        \n",
    "            H = np.zeros([w,w],dtype=int)\n",
    "            H[w//2,w//2] = 2 \n",
    "            \n",
    "            n = -pos[i]\n",
    "            H[w//2,w//2+n] = 1\n",
    "            \n",
    "        # maximum displacement\n",
    "        elif Ex[2,1] > En[-1] - En[0]:\n",
    "            H = np.zeros([w,w],dtype=int)\n",
    "            H[w//2,w//2] = 2 \n",
    "            \n",
    "            n = w//2\n",
    "            H[w//2,-1] = 1\n",
    "        \n",
    "        # maximum displacement\n",
    "        elif Ex[2,1] < -(En[-1] - En[0]):\n",
    "            H = np.zeros([w,w],dtype=int)\n",
    "            H[w//2,w//2] = 2 \n",
    "\n",
    "            n = -w//2+1\n",
    "            H[w//2,0] = 1\n",
    "            \n",
    "    return(H,n,ion)\n"
   ]
  },
  {
   "cell_type": "code",
   "execution_count": 2,
   "metadata": {},
   "outputs": [],
   "source": [
    "\n",
    "# initialize the potential field\n",
    "N = 5       # length/width of array where the potential will be calculated\n",
    "A = 15      # max amplitude of the charge on the barriers\n",
    "                # different max amplitudes will cause different max displacements of the electron\n",
    "                # theoretically, if the max amplitude\n",
    "\n",
    "# initialize the hydrogen atom\n",
    "# set ionization = false, energy thresholds, width of the array, positions\n",
    "ion = False\n",
    "En = [-11, -10, -9, -8, -7, -6, -5, -4, -3, -2, -1]\n",
    "w = len(En)*2 - 1\n",
    "pos = np.arange(1,w//2+1)\n",
    "\n",
    "# the tolerance for convergence\n",
    "ϵ = 1.0E-5\n",
    "\n",
    "# write the output to hydrogen.txt\n",
    "file = open('hydrogen.txt', 'w')\n",
    "     \n",
    "sinEx = []\n",
    "sinEy = []\n",
    "nlist=[]\n",
    "tlist=[]\n",
    "time_iters = np.linspace(0,4,1000)\n",
    "for i in time_iters:\n",
    "    \n",
    "    V,Vp = potential(N,i)\n",
    "    \n",
    "    # Iterate until convergence\n",
    "    ΔV = 1.0\n",
    "    while ΔV/(N*N) > ϵ:\n",
    "        ΔV = jacobi_update(V,Vp)\n",
    "        ΔV += jacobi_update(Vp,V)\n",
    "        \n",
    "    Ex,Ey = getE(V)\n",
    "    \n",
    "    sinEx.append(Ex[2,1])\n",
    "    sinEy.append(Ey[2,1])\n",
    "\n",
    "    if ion == False:\n",
    "        hy,n,ion = hydrogen(Ex,Ey)\n",
    "        nlist.append(n)\n",
    "        tlist.append(i)\n",
    "        #print('{}, \\tEx = {:.2f}, \\tt = {:.4f} msec, \\tPosition = {}'.format(hy[w//2], Ex[2,1], i, n))\n",
    "        file.write('{}, \\tEx = {:.2f}, \\tt = {:.4f} msec, \\tPosition = {}\\n'.format(hy[w//2], Ex[2,1], i, n))\n",
    "\n",
    "file.close()\n",
    "\n",
    "# format sinE to 3 decimals    \n",
    "for i in range(len(sinEx)):\n",
    "    sinEx[i]=float('%.1f'%sinEx[i])\n",
    "    "
   ]
  },
  {
   "cell_type": "code",
   "execution_count": 3,
   "metadata": {},
   "outputs": [
    {
     "data": {
      "image/png": "[encoded data removed]",
      "text/plain": [
       "<Figure size 432x288 with 1 Axes>"
      ]
     },
     "metadata": {
      "needs_background": "light"
     },
     "output_type": "display_data"
    },
    {
     "name": "stdout",
     "output_type": "stream",
     "text": [
      "Ex = 3.67394039744206e-15\n"
     ]
    },
    {
     "data": {
      "text/plain": [
       "'Last orientation of the electric field. Note that the hydrogen atom is located at (-0.50, 0.00) on this plot.'"
      ]
     },
     "execution_count": 3,
     "metadata": {},
     "output_type": "execute_result"
    }
   ],
   "source": [
    "\n",
    "import matplotlib.pyplot as plt\n",
    "colors = plt.rcParams['axes.prop_cycle'].by_key()['color']\n",
    "\n",
    "X,Y = np.meshgrid(np.linspace(-1.0,1.0,N),np.linspace(-1.0,1.0,N))\n",
    "\n",
    "plt.contourf(X,Y,V,100, cmap='bwr')\n",
    "plt.quiver(X,Y,Ex,Ey,pivot='mid')\n",
    "plt.axis([-1.0,1.0,-1.0,1.0])\n",
    "plt.xlabel('x')\n",
    "plt.ylabel('y')\n",
    "plt.title('Last Orientation of Electric Field')\n",
    "plt.show()\n",
    "\n",
    "print(f'Ex = {Ex[2,1]}')\n",
    "\n",
    "'''Last orientation of the electric field. Note that the hydrogen atom is located at (-0.50, 0.00) on this plot.'''\n"
   ]
  },
  {
   "cell_type": "code",
   "execution_count": 4,
   "metadata": {},
   "outputs": [
    {
     "data": {
      "image/png": "[encoded data removed]",
      "text/plain": [
       "<Figure size 432x288 with 1 Axes>"
      ]
     },
     "metadata": {
      "needs_background": "light"
     },
     "output_type": "display_data"
    },
    {
     "data": {
      "text/plain": [
       "'x-component of the electric field vs. time at the point where the atom is located'"
      ]
     },
     "execution_count": 4,
     "metadata": {},
     "output_type": "execute_result"
    }
   ],
   "source": [
    "\n",
    "plt.plot(sinEx,'o')\n",
    "plt.title('Ex at [2,1] vs. Time')\n",
    "plt.xlabel('Time [msec]')\n",
    "plt.ylabel('Ex')\n",
    "plt.show()\n",
    "\n",
    "'''x-component of the electric field vs. time at the point where the atom is located'''\n"
   ]
  },
  {
   "cell_type": "code",
   "execution_count": 5,
   "metadata": {},
   "outputs": [
    {
     "data": {
      "image/png": "[encoded data removed]",
      "text/plain": [
       "<Figure size 432x288 with 1 Axes>"
      ]
     },
     "metadata": {
      "needs_background": "light"
     },
     "output_type": "display_data"
    },
    {
     "data": {
      "text/plain": [
       "'y-component'"
      ]
     },
     "execution_count": 5,
     "metadata": {},
     "output_type": "execute_result"
    }
   ],
   "source": [
    "\n",
    "plt.plot(sinEy,'o')\n",
    "plt.title('Ey at [2,1] vs. Time')\n",
    "plt.xlabel('Time [msec]')\n",
    "plt.ylabel('Ey')\n",
    "plt.show()\n",
    "\n",
    "'''y-component'''\n"
   ]
  },
  {
   "cell_type": "code",
   "execution_count": 6,
   "metadata": {},
   "outputs": [
    {
     "data": {
      "image/png": "[encoded data removed]",
      "text/plain": [
       "<Figure size 432x288 with 1 Axes>"
      ]
     },
     "metadata": {
      "needs_background": "light"
     },
     "output_type": "display_data"
    }
   ],
   "source": [
    "\n",
    "plt.plot(tlist,nlist,'o',label='Electron')\n",
    "plt.title('Electron Position vs. Time')\n",
    "plt.xlabel('Time [msec]')\n",
    "plt.ylabel('Position')\n",
    "plt.axhline(y=0,label='Proton',c=colors[1])\n",
    "plt.legend()\n",
    "plt.show()\n"
   ]
  }
 ],
 "metadata": {
  "kernelspec": {
   "display_name": "Python 3",
   "language": "python",
   "name": "python3"
  },
  "language_info": {
   "codemirror_mode": {
    "name": "ipython",
    "version": 3
   },
   "file_extension": ".py",
   "mimetype": "text/x-python",
   "name": "python",
   "nbconvert_exporter": "python",
   "pygments_lexer": "ipython3",
   "version": "3.8.6"
  }
 },
 "nbformat": 4,
 "nbformat_minor": 4
}
